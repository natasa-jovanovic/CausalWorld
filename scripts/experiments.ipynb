{
 "cells": [
  {
   "cell_type": "code",
   "execution_count": 1,
   "id": "053b740a",
   "metadata": {},
   "outputs": [
    {
     "name": "stderr",
     "output_type": "stream",
     "text": [
      "c:\\users\\psiml8\\causalworld\\causal_world\\stable_baselines\\__init__.py:33: UserWarning: stable-baselines is in maintenance mode, please use [Stable-Baselines3 (SB3)](https://github.com/DLR-RM/stable-baselines3) for an up-to-date version. You can find a [migration guide](https://stable-baselines3.readthedocs.io/en/master/guide/migration.html) in SB3 documentation.\n",
      "  \"stable-baselines is in maintenance mode, please use [Stable-Baselines3 (SB3)](https://github.com/DLR-RM/stable-baselines3) for an up-to-date version. You can find a [migration guide](https://stable-baselines3.readthedocs.io/en/master/guide/migration.html) in SB3 documentation.\"\n",
      "Failed to detect the name of this notebook, you can set it manually with the WANDB_NOTEBOOK_NAME environment variable to enable code saving.\n",
      "\u001b[34m\u001b[1mwandb\u001b[0m: Currently logged in as: \u001b[33mnatasa-jovanovic\u001b[0m. Use \u001b[1m`wandb login --relogin`\u001b[0m to force relogin\n"
     ]
    },
    {
     "data": {
      "text/html": [
       "wandb version 0.13.1 is available!  To upgrade, please run:\n",
       " $ pip install wandb --upgrade"
      ],
      "text/plain": [
       "<IPython.core.display.HTML object>"
      ]
     },
     "metadata": {},
     "output_type": "display_data"
    },
    {
     "data": {
      "text/html": [
       "Tracking run with wandb version 0.12.21"
      ],
      "text/plain": [
       "<IPython.core.display.HTML object>"
      ]
     },
     "metadata": {},
     "output_type": "display_data"
    },
    {
     "data": {
      "text/html": [
       "Run data is saved locally in <code>c:\\Users\\psiml8\\CausalWorld\\scripts\\wandb\\run-20220806_141506-9orao09w</code>"
      ],
      "text/plain": [
       "<IPython.core.display.HTML object>"
      ]
     },
     "metadata": {},
     "output_type": "display_data"
    },
    {
     "data": {
      "text/html": [
       "Syncing run <strong><a href=\"https://wandb.ai/natasa-jovanovic/causal-world/runs/9orao09w\" target=\"_blank\">comic-brook-14</a></strong> to <a href=\"https://wandb.ai/natasa-jovanovic/causal-world\" target=\"_blank\">Weights & Biases</a> (<a href=\"https://wandb.me/run\" target=\"_blank\">docs</a>)<br/>"
      ],
      "text/plain": [
       "<IPython.core.display.HTML object>"
      ]
     },
     "metadata": {},
     "output_type": "display_data"
    }
   ],
   "source": [
    "from causal_world.evaluation.evaluation import EvaluationPipeline\n",
    "from causal_world.intervention_actors import RandomInterventionActorPolicy, GoalInterventionActorPolicy, CurriculumInterventionActorPolicy\n",
    "from causal_world.benchmark.benchmarks import PUSHING_BENCHMARK, PICKING_BENCHMARK, \\\n",
    "    PICK_AND_PLACE_BENCHMARK, STACKING2_BENCHMARK\n",
    "from causal_world.task_generators.task import generate_task\n",
    "import causal_world.viewers.task_viewer as viewer\n",
    "import causal_world.evaluation.visualization.visualiser as vis\n",
    "\n",
    "from scripts.util import utils as utils, utils_baselines as utils_baselines\n",
    "import argparse\n",
    "import os\n",
    "import tensorflow as tf\n",
    "import wandb\n",
    "wandb.init(entity='natasa-jovanovic', project='causal-world', sync_tensorboard=True)\n",
    "wandb.watch_called = False"
   ]
  },
  {
   "cell_type": "code",
   "execution_count": 2,
   "id": "b6668525",
   "metadata": {},
   "outputs": [
    {
     "name": "stderr",
     "output_type": "stream",
     "text": [
      "c:\\Users\\psiml8\\Anaconda3\\envs\\causal_world\\lib\\site-packages\\stable_baselines\\__init__.py:33: UserWarning: stable-baselines is in maintenance mode, please use [Stable-Baselines3 (SB3)](https://github.com/DLR-RM/stable-baselines3) for an up-to-date version. You can find a [migration guide](https://stable-baselines3.readthedocs.io/en/master/guide/migration.html) in SB3 documentation.\n",
      "  \"stable-baselines is in maintenance mode, please use [Stable-Baselines3 (SB3)](https://github.com/DLR-RM/stable-baselines3) for an up-to-date version. You can find a [migration guide](https://stable-baselines3.readthedocs.io/en/master/guide/migration.html) in SB3 documentation.\"\n"
     ]
    }
   ],
   "source": [
    "from stable_baselines import PPO1\n",
    "\n",
    "\n",
    "def baseline_model(model_num, task):\n",
    "    if task == 'pushing':\n",
    "        benchmarks = utils.sweep('benchmarks', [PUSHING_BENCHMARK])\n",
    "        task_configs = [{\n",
    "            'task_configs': {\n",
    "                'variables_space': 'space_a',\n",
    "                'fractional_reward_weight': 1,\n",
    "                'dense_reward_weights': [750, 250, 0]\n",
    "            }\n",
    "        }]\n",
    "    elif task == 'picking':\n",
    "        benchmarks = utils.sweep('benchmarks', [PICKING_BENCHMARK])\n",
    "        task_configs = [{\n",
    "            'task_configs': {\n",
    "                'variables_space': 'space_a',\n",
    "                'fractional_reward_weight': 1,\n",
    "                'dense_reward_weights': [250, 0, 125,\n",
    "                                         0, 750, 0,\n",
    "                                         0, 0.005]\n",
    "            }\n",
    "        }]\n",
    "    elif task == 'pick_and_place':\n",
    "        benchmarks = utils.sweep('benchmarks', [PICK_AND_PLACE_BENCHMARK])\n",
    "        task_configs = [{\n",
    "            'task_configs': {\n",
    "                'variables_space': 'space_a',\n",
    "                'fractional_reward_weight': 1,\n",
    "                'dense_reward_weights': [750, 50, 250, 0, 0.005]\n",
    "            }\n",
    "        }]\n",
    "    elif task == 'stacking2':\n",
    "        benchmarks = utils.sweep('benchmarks', [STACKING2_BENCHMARK])\n",
    "        task_configs = [{\n",
    "            'task_configs': {\n",
    "                'variables_space': 'space_a',\n",
    "                'fractional_reward_weight': 1,\n",
    "                'dense_reward_weights': [750, 250,\n",
    "                                         250, 125,\n",
    "                                         0.005]\n",
    "            }\n",
    "        }]\n",
    "    else:\n",
    "        benchmarks = utils.sweep('benchmarks', [PUSHING_BENCHMARK])\n",
    "        task_configs = [{\n",
    "            'task_configs': {\n",
    "                'variables_space': 'space_a',\n",
    "                'fractional_reward_weight': 1,\n",
    "                'dense_reward_weights': [750, 250, 0]\n",
    "            }\n",
    "        }]\n",
    "\n",
    "    world_params = [{\n",
    "        'world_params': {\n",
    "            'skip_frame': 3,\n",
    "            'enable_visualization': False,\n",
    "            'observation_mode': 'structured',\n",
    "            'normalize_observations': True,\n",
    "            'action_mode': 'joint_positions'\n",
    "        }\n",
    "    }]\n",
    "\n",
    "    net_layers = utils.sweep('NET_LAYERS', [[256, 256]])\n",
    "    world_seed = utils.sweep('world_seed', [0])\n",
    "    NUM_RANDOM_SEEDS = 5\n",
    "    random_seeds = utils.sweep('seed', list(range(NUM_RANDOM_SEEDS)))\n",
    "\n",
    "    ppo = {'num_of_envs': 20,\n",
    "           'algorithm': 'PPO',\n",
    "           'validate_every_timesteps': int(20000),\n",
    "           'total_time_steps': int(10000000),\n",
    "           'train_configs': {\n",
    "               \"gamma\": 0.99,\n",
    "               \"n_steps\": int(1200 / 20),\n",
    "               \"ent_coef\": 0.01,\n",
    "               \"learning_rate\": 0.00025,\n",
    "               \"vf_coef\": 0.5,\n",
    "               \"max_grad_norm\": 0.5,\n",
    "               \"nminibatches\": 40,\n",
    "               \"noptepochs\": 4\n",
    "           }}\n",
    "\n",
    "    sac = {'num_of_envs': 1,\n",
    "           'algorithm': 'SAC',\n",
    "           'validate_every_timesteps': int(50000),\n",
    "           'total_time_steps': int(1e6),\n",
    "           'train_configs': {\n",
    "               \"gamma\": 0.95,\n",
    "               \"tau\": 1e-3,\n",
    "               \"ent_coef\": 1e-3,\n",
    "               \"target_entropy\": 'auto',\n",
    "               \"learning_rate\":  1e-4,\n",
    "               \"buffer_size\": 100000,\n",
    "               \"learning_starts\": 1000,\n",
    "               \"batch_size\": 256\n",
    "           }}\n",
    "\n",
    "    td3 = {'num_of_envs': 1,\n",
    "           'algorithm': 'TD3',\n",
    "           'validate_every_timesteps': int(500000),\n",
    "           'total_time_steps': int(10000000),\n",
    "           'train_configs': {\n",
    "               \"gamma\": 0.96,\n",
    "               \"tau\": 0.02,\n",
    "               \"learning_rate\": 1e-4,\n",
    "               \"buffer_size\": 500000,\n",
    "               \"learning_starts\": 1000,\n",
    "               \"batch_size\": 128}}\n",
    "\n",
    "    algorithms = [sac]\n",
    "\n",
    "    curriculum_kwargs_1 = {'intervention_actors': [], 'actives': []}\n",
    "    curriculum_kwargs_2 = {\n",
    "        'intervention_actors': [GoalInterventionActorPolicy()],\n",
    "        'actives': [(0, 1e9, 1, 0)]\n",
    "    }\n",
    "    curriculum_kwargs_3 = {\n",
    "        'intervention_actors': [RandomInterventionActorPolicy()],\n",
    "        'actives': [(0, 1e9, 1, 0)]\n",
    "    }\n",
    "    curriculum_kwargs_4 = {\n",
    "        'intervention_actors': [CurriculumInterventionActorPolicy()],\n",
    "        'actives': [(0, 1e9, 1, 0)]\n",
    "    }\n",
    "    curriculum_kwargs = [\n",
    "        curriculum_kwargs_4\n",
    "    ]\n",
    "\n",
    "    return utils.outer_product([\n",
    "        benchmarks, world_params, task_configs, algorithms, curriculum_kwargs,\n",
    "        random_seeds, world_seed, net_layers\n",
    "    ])[model_num]\n"
   ]
  },
  {
   "cell_type": "code",
   "execution_count": null,
   "id": "71c2b715",
   "metadata": {},
   "outputs": [],
   "source": [
    "parser = argparse.ArgumentParser()\n",
    "parser.add_argument(\"--model_num\",\n",
    "                    required=True,\n",
    "                    default=0,\n",
    "                    help=\"model number\")\n",
    "parser.add_argument(\"--task\",\n",
    "                    required=True,\n",
    "                    default='pushing',\n",
    "                    help=\"possible tasks: pushing, picking, pick_and_place, stacking2\")\n",
    "parser.add_argument(\"--output_path\", required=True, help=\"output path\")\n",
    "# parser.add_argument('--tensorboard', help=\"tensorboard logging\")\n",
    "\n",
    "tensorboard_logging = True\n"
   ]
  },
  {
   "cell_type": "code",
   "execution_count": 4,
   "id": "1fc01ea4",
   "metadata": {},
   "outputs": [],
   "source": [
    "model_num = 0\n",
    "task = \"pushing\"\n",
    "output_path = \"experiments-pushing\"\n",
    "output_path = os.path.join(output_path, str(model_num))\n",
    "\n",
    "dir_exists = True\n",
    "idx = 0\n",
    "while dir_exists:\n",
    "    output_path\n",
    "    try:\n",
    "        os.makedirs(os.path.join(output_path, str(idx)))\n",
    "        dir_exists = False\n",
    "    except FileExistsError: \n",
    "        idx += 1\n",
    "\n",
    "output_path = os.path.join(output_path, str(idx))\n"
   ]
  },
  {
   "cell_type": "code",
   "execution_count": null,
   "id": "00b9c384",
   "metadata": {},
   "outputs": [],
   "source": [
    "\n",
    "\n",
    "model_settings = baseline_model(model_num, task)\n",
    "\n",
    "model = utils_baselines.train_model(model_settings, output_path, tensorboard_logging)\n"
   ]
  },
  {
   "cell_type": "code",
   "execution_count": null,
   "id": "1a0be6ac",
   "metadata": {},
   "outputs": [],
   "source": [
    "def policy_fn(obs, prev_action=None, prev_reward=None):\n",
    "        return model.predict(obs, deterministic=True)[0]"
   ]
  },
  {
   "cell_type": "code",
   "execution_count": null,
   "id": "d305b446",
   "metadata": {},
   "outputs": [],
   "source": [
    "animation_path = os.path.join(output_path, 'animation')\n",
    "os.makedirs(animation_path)\n",
    "viewer.record_video_of_policy(task=generate_task(\n",
    "    task_generator_id=model_settings['benchmarks']['task_generator_id'],\n",
    "    **model_settings['task_configs']),\n",
    "    world_params=model_settings['world_params'],\n",
    "    policy_fn=policy_fn,\n",
    "    file_name=os.path.join(\n",
    "        animation_path, \"policy\"),\n",
    "    number_of_resets=1,\n",
    "    max_time_steps=600)"
   ]
  },
  {
   "cell_type": "code",
   "execution_count": null,
   "id": "d32dd900",
   "metadata": {},
   "outputs": [],
   "source": [
    "evaluation_path = os.path.join(output_path, 'evaluation',\n",
    "                                   'time_steps_{}'.format(model_settings['total_time_steps']))\n",
    "os.makedirs(evaluation_path)\n",
    "\n",
    "evaluation_protocols = model_settings['benchmarks']['evaluation_protocols']\n",
    "\n",
    "evaluator = EvaluationPipeline(evaluation_protocols=evaluation_protocols,\n",
    "                                tracker_path=output_path,\n",
    "                                initial_seed=0)\n",
    "scores = evaluator.evaluate_policy(policy_fn, fraction=1.0)\n"
   ]
  },
  {
   "cell_type": "code",
   "execution_count": null,
   "id": "9353a7d5",
   "metadata": {},
   "outputs": [],
   "source": [
    "results_model = dict()\n",
    "results_model.update(scores)\n",
    "results_model.update(model_settings)\n",
    "results_model.update({'model_num': model_num})\n",
    "del results_model['benchmarks']\n",
    "file_name_results_model = os.path.join(evaluation_path, 'results_model.json')\n",
    "utils.save_model_settings(file_name_results_model, results_model)\n",
    "evaluator.save_scores(evaluation_path)\n",
    "experiments = dict()\n",
    "experiments[str(model_num)] = scores\n",
    "vis.generate_visual_analysis(evaluation_path, experiments=experiments)"
   ]
  },
  {
   "cell_type": "code",
   "execution_count": 5,
   "id": "cb503442",
   "metadata": {},
   "outputs": [
    {
     "name": "stdout",
     "output_type": "stream",
     "text": [
      "Loading model from checkpoint 'C:\\Users\\psiml8\\CausalWorld\\scripts\\experiments-pushing\\valid\\pushing-size-position-1e6-41\\model\\model_1000000_steps.zip'\n",
      "WARNING: Entity <bound method Flatten.call of <tensorflow.python.layers.core.Flatten object at 0x0000020BDDEF9B48>> could not be transformed and will be executed as-is. Please report this to the AutgoGraph team. When filing the bug, set the verbosity to 10 (on Linux, `export AUTOGRAPH_VERBOSITY=10`) and attach the full output. Cause: converting <bound method Flatten.call of <tensorflow.python.layers.core.Flatten object at 0x0000020BDDEF9B48>>: AttributeError: module 'gast' has no attribute 'Index'\n",
      "WARNING: Entity <bound method Dense.call of <tensorflow.python.layers.core.Dense object at 0x0000020BDE8DFE48>> could not be transformed and will be executed as-is. Please report this to the AutgoGraph team. When filing the bug, set the verbosity to 10 (on Linux, `export AUTOGRAPH_VERBOSITY=10`) and attach the full output. Cause: converting <bound method Dense.call of <tensorflow.python.layers.core.Dense object at 0x0000020BDE8DFE48>>: AttributeError: module 'gast' has no attribute 'Index'\n",
      "WARNING: Entity <bound method Dense.call of <tensorflow.python.layers.core.Dense object at 0x0000020BC95B1048>> could not be transformed and will be executed as-is. Please report this to the AutgoGraph team. When filing the bug, set the verbosity to 10 (on Linux, `export AUTOGRAPH_VERBOSITY=10`) and attach the full output. Cause: converting <bound method Dense.call of <tensorflow.python.layers.core.Dense object at 0x0000020BC95B1048>>: AttributeError: module 'gast' has no attribute 'Index'\n",
      "WARNING: Entity <bound method Dense.call of <tensorflow.python.layers.core.Dense object at 0x0000020BDDEF9B48>> could not be transformed and will be executed as-is. Please report this to the AutgoGraph team. When filing the bug, set the verbosity to 10 (on Linux, `export AUTOGRAPH_VERBOSITY=10`) and attach the full output. Cause: converting <bound method Dense.call of <tensorflow.python.layers.core.Dense object at 0x0000020BDDEF9B48>>: AttributeError: module 'gast' has no attribute 'Index'\n",
      "WARNING: Entity <bound method Dense.call of <tensorflow.python.layers.core.Dense object at 0x0000020BDDEF9B48>> could not be transformed and will be executed as-is. Please report this to the AutgoGraph team. When filing the bug, set the verbosity to 10 (on Linux, `export AUTOGRAPH_VERBOSITY=10`) and attach the full output. Cause: converting <bound method Dense.call of <tensorflow.python.layers.core.Dense object at 0x0000020BDDEF9B48>>: AttributeError: module 'gast' has no attribute 'Index'\n",
      "WARNING: Entity <bound method Flatten.call of <tensorflow.python.layers.core.Flatten object at 0x0000020BDDE6F348>> could not be transformed and will be executed as-is. Please report this to the AutgoGraph team. When filing the bug, set the verbosity to 10 (on Linux, `export AUTOGRAPH_VERBOSITY=10`) and attach the full output. Cause: converting <bound method Flatten.call of <tensorflow.python.layers.core.Flatten object at 0x0000020BDDE6F348>>: AttributeError: module 'gast' has no attribute 'Index'\n",
      "WARNING: Entity <bound method Dense.call of <tensorflow.python.layers.core.Dense object at 0x0000020BDE911A48>> could not be transformed and will be executed as-is. Please report this to the AutgoGraph team. When filing the bug, set the verbosity to 10 (on Linux, `export AUTOGRAPH_VERBOSITY=10`) and attach the full output. Cause: converting <bound method Dense.call of <tensorflow.python.layers.core.Dense object at 0x0000020BDE911A48>>: AttributeError: module 'gast' has no attribute 'Index'\n",
      "WARNING: Entity <bound method Dense.call of <tensorflow.python.layers.core.Dense object at 0x0000020BDE911A48>> could not be transformed and will be executed as-is. Please report this to the AutgoGraph team. When filing the bug, set the verbosity to 10 (on Linux, `export AUTOGRAPH_VERBOSITY=10`) and attach the full output. Cause: converting <bound method Dense.call of <tensorflow.python.layers.core.Dense object at 0x0000020BDE911A48>>: AttributeError: module 'gast' has no attribute 'Index'\n",
      "WARNING: Entity <bound method Dense.call of <tensorflow.python.layers.core.Dense object at 0x0000020BDE928F48>> could not be transformed and will be executed as-is. Please report this to the AutgoGraph team. When filing the bug, set the verbosity to 10 (on Linux, `export AUTOGRAPH_VERBOSITY=10`) and attach the full output. Cause: converting <bound method Dense.call of <tensorflow.python.layers.core.Dense object at 0x0000020BDE928F48>>: AttributeError: module 'gast' has no attribute 'Index'\n",
      "WARNING: Entity <bound method Dense.call of <tensorflow.python.layers.core.Dense object at 0x0000020BE1F6CA48>> could not be transformed and will be executed as-is. Please report this to the AutgoGraph team. When filing the bug, set the verbosity to 10 (on Linux, `export AUTOGRAPH_VERBOSITY=10`) and attach the full output. Cause: converting <bound method Dense.call of <tensorflow.python.layers.core.Dense object at 0x0000020BE1F6CA48>>: AttributeError: module 'gast' has no attribute 'Index'\n",
      "WARNING: Entity <bound method Dense.call of <tensorflow.python.layers.core.Dense object at 0x0000020BDE907DC8>> could not be transformed and will be executed as-is. Please report this to the AutgoGraph team. When filing the bug, set the verbosity to 10 (on Linux, `export AUTOGRAPH_VERBOSITY=10`) and attach the full output. Cause: converting <bound method Dense.call of <tensorflow.python.layers.core.Dense object at 0x0000020BDE907DC8>>: AttributeError: module 'gast' has no attribute 'Index'\n",
      "WARNING: Entity <bound method Dense.call of <tensorflow.python.layers.core.Dense object at 0x0000020BDDE6F348>> could not be transformed and will be executed as-is. Please report this to the AutgoGraph team. When filing the bug, set the verbosity to 10 (on Linux, `export AUTOGRAPH_VERBOSITY=10`) and attach the full output. Cause: converting <bound method Dense.call of <tensorflow.python.layers.core.Dense object at 0x0000020BDDE6F348>>: AttributeError: module 'gast' has no attribute 'Index'\n",
      "WARNING: Entity <bound method Dense.call of <tensorflow.python.layers.core.Dense object at 0x0000020BDC9B5288>> could not be transformed and will be executed as-is. Please report this to the AutgoGraph team. When filing the bug, set the verbosity to 10 (on Linux, `export AUTOGRAPH_VERBOSITY=10`) and attach the full output. Cause: converting <bound method Dense.call of <tensorflow.python.layers.core.Dense object at 0x0000020BDC9B5288>>: AttributeError: module 'gast' has no attribute 'Index'\n",
      "WARNING: Entity <bound method Dense.call of <tensorflow.python.layers.core.Dense object at 0x0000020BDC9B5288>> could not be transformed and will be executed as-is. Please report this to the AutgoGraph team. When filing the bug, set the verbosity to 10 (on Linux, `export AUTOGRAPH_VERBOSITY=10`) and attach the full output. Cause: converting <bound method Dense.call of <tensorflow.python.layers.core.Dense object at 0x0000020BDC9B5288>>: AttributeError: module 'gast' has no attribute 'Index'\n",
      "WARNING: Entity <bound method Dense.call of <tensorflow.python.layers.core.Dense object at 0x0000020BE1F6C088>> could not be transformed and will be executed as-is. Please report this to the AutgoGraph team. When filing the bug, set the verbosity to 10 (on Linux, `export AUTOGRAPH_VERBOSITY=10`) and attach the full output. Cause: converting <bound method Dense.call of <tensorflow.python.layers.core.Dense object at 0x0000020BE1F6C088>>: AttributeError: module 'gast' has no attribute 'Index'\n",
      "WARNING: Entity <bound method Flatten.call of <tensorflow.python.layers.core.Flatten object at 0x0000020BDDC7F188>> could not be transformed and will be executed as-is. Please report this to the AutgoGraph team. When filing the bug, set the verbosity to 10 (on Linux, `export AUTOGRAPH_VERBOSITY=10`) and attach the full output. Cause: converting <bound method Flatten.call of <tensorflow.python.layers.core.Flatten object at 0x0000020BDDC7F188>>: AttributeError: module 'gast' has no attribute 'Index'\n",
      "WARNING: Entity <bound method Dense.call of <tensorflow.python.layers.core.Dense object at 0x0000020BE2016048>> could not be transformed and will be executed as-is. Please report this to the AutgoGraph team. When filing the bug, set the verbosity to 10 (on Linux, `export AUTOGRAPH_VERBOSITY=10`) and attach the full output. Cause: converting <bound method Dense.call of <tensorflow.python.layers.core.Dense object at 0x0000020BE2016048>>: AttributeError: module 'gast' has no attribute 'Index'\n",
      "WARNING: Entity <bound method Dense.call of <tensorflow.python.layers.core.Dense object at 0x0000020BE2016048>> could not be transformed and will be executed as-is. Please report this to the AutgoGraph team. When filing the bug, set the verbosity to 10 (on Linux, `export AUTOGRAPH_VERBOSITY=10`) and attach the full output. Cause: converting <bound method Dense.call of <tensorflow.python.layers.core.Dense object at 0x0000020BE2016048>>: AttributeError: module 'gast' has no attribute 'Index'\n",
      "WARNING: Entity <bound method Dense.call of <tensorflow.python.layers.core.Dense object at 0x0000020BDDC7F188>> could not be transformed and will be executed as-is. Please report this to the AutgoGraph team. When filing the bug, set the verbosity to 10 (on Linux, `export AUTOGRAPH_VERBOSITY=10`) and attach the full output. Cause: converting <bound method Dense.call of <tensorflow.python.layers.core.Dense object at 0x0000020BDDC7F188>>: AttributeError: module 'gast' has no attribute 'Index'\n",
      "WARNING: Entity <bound method Dense.call of <tensorflow.python.layers.core.Dense object at 0x0000020BE1F6C088>> could not be transformed and will be executed as-is. Please report this to the AutgoGraph team. When filing the bug, set the verbosity to 10 (on Linux, `export AUTOGRAPH_VERBOSITY=10`) and attach the full output. Cause: converting <bound method Dense.call of <tensorflow.python.layers.core.Dense object at 0x0000020BE1F6C088>>: AttributeError: module 'gast' has no attribute 'Index'\n",
      "WARNING: Entity <bound method Dense.call of <tensorflow.python.layers.core.Dense object at 0x0000020BE1F6C088>> could not be transformed and will be executed as-is. Please report this to the AutgoGraph team. When filing the bug, set the verbosity to 10 (on Linux, `export AUTOGRAPH_VERBOSITY=10`) and attach the full output. Cause: converting <bound method Dense.call of <tensorflow.python.layers.core.Dense object at 0x0000020BE1F6C088>>: AttributeError: module 'gast' has no attribute 'Index'\n",
      "WARNING: Entity <bound method Dense.call of <tensorflow.python.layers.core.Dense object at 0x0000020BDEAEFB88>> could not be transformed and will be executed as-is. Please report this to the AutgoGraph team. When filing the bug, set the verbosity to 10 (on Linux, `export AUTOGRAPH_VERBOSITY=10`) and attach the full output. Cause: converting <bound method Dense.call of <tensorflow.python.layers.core.Dense object at 0x0000020BDEAEFB88>>: AttributeError: module 'gast' has no attribute 'Index'\n",
      "WARNING: Entity <bound method Flatten.call of <tensorflow.python.layers.core.Flatten object at 0x0000020BDDC35C88>> could not be transformed and will be executed as-is. Please report this to the AutgoGraph team. When filing the bug, set the verbosity to 10 (on Linux, `export AUTOGRAPH_VERBOSITY=10`) and attach the full output. Cause: converting <bound method Flatten.call of <tensorflow.python.layers.core.Flatten object at 0x0000020BDDC35C88>>: AttributeError: module 'gast' has no attribute 'Index'\n",
      "WARNING: Entity <bound method Dense.call of <tensorflow.python.layers.core.Dense object at 0x0000020BE1F0D888>> could not be transformed and will be executed as-is. Please report this to the AutgoGraph team. When filing the bug, set the verbosity to 10 (on Linux, `export AUTOGRAPH_VERBOSITY=10`) and attach the full output. Cause: converting <bound method Dense.call of <tensorflow.python.layers.core.Dense object at 0x0000020BE1F0D888>>: AttributeError: module 'gast' has no attribute 'Index'\n",
      "WARNING: Entity <bound method Dense.call of <tensorflow.python.layers.core.Dense object at 0x0000020BE1F0D888>> could not be transformed and will be executed as-is. Please report this to the AutgoGraph team. When filing the bug, set the verbosity to 10 (on Linux, `export AUTOGRAPH_VERBOSITY=10`) and attach the full output. Cause: converting <bound method Dense.call of <tensorflow.python.layers.core.Dense object at 0x0000020BE1F0D888>>: AttributeError: module 'gast' has no attribute 'Index'\n",
      "WARNING: Entity <bound method Dense.call of <tensorflow.python.layers.core.Dense object at 0x0000020BDDFBFF88>> could not be transformed and will be executed as-is. Please report this to the AutgoGraph team. When filing the bug, set the verbosity to 10 (on Linux, `export AUTOGRAPH_VERBOSITY=10`) and attach the full output. Cause: converting <bound method Dense.call of <tensorflow.python.layers.core.Dense object at 0x0000020BDDFBFF88>>: AttributeError: module 'gast' has no attribute 'Index'\n"
     ]
    }
   ],
   "source": [
    "\n",
    "loaded_model_settings = baseline_model(model_num, task)\n",
    "loaded_model_output_path = r\"C:\\Users\\psiml8\\CausalWorld\\scripts\\experiments-pushing\\valid\\pushing-size-position-1e6-41\\model\"\n",
    "#loaded_model = utils_baselines.train_model(loaded_model_settings, loaded_model_output_path, tensorboard_logging)\n",
    "ckpt_path, ckpt_step = utils.get_latest_checkpoint_path(loaded_model_output_path)\n",
    "loaded_model = utils_baselines.get_SAC_model(loaded_model_settings, loaded_model_output_path, ckpt_path, ckpt_step, loaded_model_output_path)"
   ]
  }
 ],
 "metadata": {
  "kernelspec": {
   "display_name": "Python 3.7.4 ('causal_world')",
   "language": "python",
   "name": "python3"
  },
  "language_info": {
   "codemirror_mode": {
    "name": "ipython",
    "version": 3
   },
   "file_extension": ".py",
   "mimetype": "text/x-python",
   "name": "python",
   "nbconvert_exporter": "python",
   "pygments_lexer": "ipython3",
   "version": "3.7.4"
  },
  "vscode": {
   "interpreter": {
    "hash": "14dc9ff527c7255c22ab1b01300b8a4e43cdfe49563da012c0b196015f955bf1"
   }
  }
 },
 "nbformat": 4,
 "nbformat_minor": 5
}
